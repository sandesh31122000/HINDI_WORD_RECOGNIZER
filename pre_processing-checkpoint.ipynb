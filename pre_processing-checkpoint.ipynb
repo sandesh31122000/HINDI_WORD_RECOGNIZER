{
 "cells": [
  {
   "cell_type": "code",
   "execution_count": 1,
   "id": "96b4b9b4",
   "metadata": {},
   "outputs": [],
   "source": [
    "import pandas as pd\n",
    "import numpy as np\n",
    "import cv2\n",
    "import random\n",
    "from matplotlib import pyplot as plt\n",
    "import tensorflow as tf\n",
    "from tensorflow.keras.models import Sequential\n",
    "from tensorflow.keras.layers import Conv2D,Activation,Flatten,Dense,MaxPooling2D\n",
    "from tensorflow.keras.layers import LeakyReLU"
   ]
  },
  {
   "cell_type": "code",
   "execution_count": 2,
   "id": "d761d1f7",
   "metadata": {},
   "outputs": [],
   "source": [
    "def pre_processing():\n",
    "    df=pd.read_csv(\"new_label.csv\")\n",
    "    category_class=df.to_dict()\n",
    "    categories=category_class['Devanagari Label']\n",
    "    dataset=[]\n",
    "    for x in range(len(categories)):\n",
    "        if(x<12):\n",
    "            for y in range(30):\n",
    "                for z in range(8):\n",
    "                    try:\n",
    "                        if(z<=5):\n",
    "                            path=\"/home/crowwar/Desktop/nhcd/vowels/\"+str(x)+\"/00\"+str(y)+\"_0\"+str(z)+\".jpg\"\n",
    "                            img=cv2.imread(path)\n",
    "                            img=np.array(img)\n",
    "                            img=cv2.resize(img,(32,32))\n",
    "                            img = cv2.cvtColor(img, cv2.COLOR_BGR2GRAY)\n",
    "                            img=img.astype(\"float32\")\n",
    "                            dataset.append([img,x])\n",
    "                        elif(z==6 and y%2==0):\n",
    "                            path=\"/home/crowwar/Desktop/nhcd/vowels/\"+str(x)+\"/00\"+str(y)+\"_0\"+str(z)+\".jpg\"\n",
    "                            img=cv2.imread(path)\n",
    "                            img=np.array(img)\n",
    "                            img=cv2.resize(img,(32,32))\n",
    "                            img = cv2.cvtColor(img, cv2.COLOR_BGR2GRAY)\n",
    "                            img=cv2.flip(img,1)\n",
    "                            img=img.astype(\"float32\")\n",
    "                            dataset.append([img,x])\n",
    "                        elif(z==7 and y%2!=0):\n",
    "                            path=\"/home/crowwar/Desktop/nhcd/vowels/\"+str(x)+\"/00\"+str(y)+\"_0\"+str(z)+\".jpg\"\n",
    "                            img=cv2.imread(path)\n",
    "                            img=np.array(img)\n",
    "                            img=cv2.resize(img,(32,32))\n",
    "                            img = cv2.cvtColor(img, cv2.COLOR_BGR2GRAY)\n",
    "                            img=cv2.flip(img,0)\n",
    "                            img=img.astype(\"float32\")\n",
    "                            dataset.append([img,x])\n",
    "                            \n",
    "                            \n",
    "                    except Exception as e:\n",
    "                        pass\n",
    "        else:\n",
    "            for y in range(30):\n",
    "                for z in range(8):\n",
    "                    try:\n",
    "                        if(z<=5):\n",
    "                            path=\"/home/crowwar/Desktop/nhcd/consonants/\"+str(x)+\"/00\"+str(y)+\"_0\"+str(z)+\".jpg\"\n",
    "                            img=cv2.imread(path)\n",
    "                            img=np.array(img)\n",
    "                            img=cv2.resize(img,(32,32))\n",
    "                            img = cv2.cvtColor(img, cv2.COLOR_BGR2GRAY)\n",
    "                            img=img.astype(\"float32\")\n",
    "                            dataset.append([img,x])\n",
    "                        elif(z==6 and y%2==0):\n",
    "                            path=\"/home/crowwar/Desktop/nhcd/consonants/\"+str(x)+\"/00\"+str(y)+\"_0\"+str(z)+\".jpg\"\n",
    "                            img=cv2.imread(path)\n",
    "                            img=np.array(img)\n",
    "                            img=cv2.resize(img,(32,32))\n",
    "                            img = cv2.cvtColor(img, cv2.COLOR_BGR2GRAY)\n",
    "                            img=cv2.flip(img,1)\n",
    "                            img=img.astype(\"float32\")\n",
    "                            dataset.append([img,x])\n",
    "                        elif(z==7 and y%2!=0):\n",
    "                            path=\"/home/crowwar/Desktop/nhcd/consonants/\"+str(x)+\"/00\"+str(y)+\"_0\"+str(z)+\".jpg\"\n",
    "                            img=cv2.imread(path)\n",
    "                            img=np.array(img)\n",
    "                            img=cv2.resize(img,(32,32))\n",
    "                            img = cv2.cvtColor(img, cv2.COLOR_BGR2GRAY)\n",
    "                            img=cv2.flip(img,0)\n",
    "                            img=img.astype(\"float32\")\n",
    "                            dataset.append([img,x])\n",
    "                            \n",
    "                            \n",
    "                        \n",
    "                    except Exception as e:\n",
    "                        pass\n",
    "            \n",
    "    return dataset,categories\n",
    "    "
   ]
  },
  {
   "cell_type": "code",
   "execution_count": 3,
   "id": "8e150939",
   "metadata": {},
   "outputs": [
    {
     "name": "stdout",
     "output_type": "stream",
     "text": [
      "{0: 'अ', 1: 'आ', 2: 'इ', 3: 'ई', 4: 'उ', 5: 'ऊ', 6: 'ए', 7: 'ऐ', 8: 'ओ', 9: 'औ', 10: 'अं', 11: 'अः', 12: 'क', 13: 'ख', 14: 'ग', 15: 'घ', 16: 'ङ', 17: 'च', 18: 'छ', 19: 'ज', 20: 'झ', 21: 'ञ', 22: 'ट', 23: 'ठ', 24: 'ड', 25: 'ढ', 26: 'ण', 27: 'त', 28: 'थ', 29: 'द', 30: 'ध', 31: 'न', 32: 'प', 33: 'फ', 34: 'ब', 35: 'भ', 36: 'म', 37: 'य', 38: 'र', 39: 'ल', 40: 'व', 41: 'श', 42: 'ष', 43: 'स', 44: 'ह', 45: 'क्ष', 46: 'त्र', 47: 'ज्ञ', 48: 'ा'}\n"
     ]
    }
   ],
   "source": [
    "dataset,categories=pre_processing()\n",
    "print(categories)"
   ]
  },
  {
   "cell_type": "code",
   "execution_count": 4,
   "id": "7a3ee793",
   "metadata": {},
   "outputs": [],
   "source": [
    "import random\n",
    "random.shuffle(dataset)"
   ]
  },
  {
   "cell_type": "code",
   "execution_count": 5,
   "id": "8e9c4f5d",
   "metadata": {},
   "outputs": [
    {
     "name": "stdout",
     "output_type": "stream",
     "text": [
      "1811\n"
     ]
    }
   ],
   "source": [
    "print(len(dataset))"
   ]
  },
  {
   "cell_type": "code",
   "execution_count": 6,
   "id": "7562d5a1",
   "metadata": {},
   "outputs": [],
   "source": [
    "x_train=[]\n",
    "y_train=[]\n",
    "x_test=[]\n",
    "y_test=[]\n",
    "for img,labels in dataset[:1500]:\n",
    "    x_train.append(img)\n",
    "    y_train.append(labels)\n",
    "for img,labels in dataset[1500:]:\n",
    "    x_test.append(img)\n",
    "    y_test.append(labels)\n",
    "x_train=np.array(x_train).reshape(-1,32,32,1)/255.\n",
    "x_test=np.array(x_test).reshape(-1,32,32,1)/255.\n",
    "y_train=np.array(y_train)\n",
    "y_test=np.array(y_test)"
   ]
  },
  {
   "cell_type": "code",
   "execution_count": 7,
   "id": "cacdceeb",
   "metadata": {},
   "outputs": [
    {
     "name": "stdout",
     "output_type": "stream",
     "text": [
      "Epoch 1/25\n",
      "19/19 [==============================] - 3s 105ms/step - loss: 3.8968 - accuracy: 0.0237\n",
      "Epoch 2/25\n",
      "19/19 [==============================] - 2s 107ms/step - loss: 3.8823 - accuracy: 0.0278\n",
      "Epoch 3/25\n",
      "19/19 [==============================] - 1s 77ms/step - loss: 3.8144 - accuracy: 0.0623\n",
      "Epoch 4/25\n",
      "19/19 [==============================] - 2s 105ms/step - loss: 3.5063 - accuracy: 0.1412\n",
      "Epoch 5/25\n",
      "19/19 [==============================] - 2s 80ms/step - loss: 2.9914 - accuracy: 0.2356\n",
      "Epoch 6/25\n",
      "19/19 [==============================] - 2s 83ms/step - loss: 2.5064 - accuracy: 0.3408\n",
      "Epoch 7/25\n",
      "19/19 [==============================] - 1s 75ms/step - loss: 2.0559 - accuracy: 0.4366\n",
      "Epoch 8/25\n",
      "19/19 [==============================] - 2s 85ms/step - loss: 1.8132 - accuracy: 0.5078\n",
      "Epoch 9/25\n",
      "19/19 [==============================] - 2s 80ms/step - loss: 1.6475 - accuracy: 0.5382\n",
      "Epoch 10/25\n",
      "19/19 [==============================] - 2s 83ms/step - loss: 1.3603 - accuracy: 0.6046\n",
      "Epoch 11/25\n",
      "19/19 [==============================] - 2s 82ms/step - loss: 1.2075 - accuracy: 0.6700\n",
      "Epoch 12/25\n",
      "19/19 [==============================] - 2s 79ms/step - loss: 1.1178 - accuracy: 0.7000\n",
      "Epoch 13/25\n",
      "19/19 [==============================] - 2s 86ms/step - loss: 1.0022 - accuracy: 0.7020\n",
      "Epoch 14/25\n",
      "19/19 [==============================] - 2s 83ms/step - loss: 0.8440 - accuracy: 0.7579\n",
      "Epoch 15/25\n",
      "19/19 [==============================] - 2s 83ms/step - loss: 0.6806 - accuracy: 0.8118\n",
      "Epoch 16/25\n",
      "19/19 [==============================] - 2s 84ms/step - loss: 0.6286 - accuracy: 0.8473\n",
      "Epoch 17/25\n",
      "19/19 [==============================] - 2s 80ms/step - loss: 0.5373 - accuracy: 0.8608\n",
      "Epoch 18/25\n",
      "19/19 [==============================] - 2s 81ms/step - loss: 0.4419 - accuracy: 0.8830\n",
      "Epoch 19/25\n",
      "19/19 [==============================] - 2s 81ms/step - loss: 0.4184 - accuracy: 0.8807\n",
      "Epoch 20/25\n",
      "19/19 [==============================] - 2s 85ms/step - loss: 0.3909 - accuracy: 0.8888\n",
      "Epoch 21/25\n",
      "19/19 [==============================] - 2s 83ms/step - loss: 0.3052 - accuracy: 0.9208\n",
      "Epoch 22/25\n",
      "19/19 [==============================] - 2s 79ms/step - loss: 0.2398 - accuracy: 0.9430\n",
      "Epoch 23/25\n",
      "19/19 [==============================] - 2s 81ms/step - loss: 0.2048 - accuracy: 0.9508\n",
      "Epoch 24/25\n",
      "19/19 [==============================] - 2s 81ms/step - loss: 0.1684 - accuracy: 0.9603\n",
      "Epoch 25/25\n",
      "19/19 [==============================] - 2s 80ms/step - loss: 0.1477 - accuracy: 0.9676\n"
     ]
    },
    {
     "data": {
      "text/plain": [
       "<tensorflow.python.keras.callbacks.History at 0x7f5b38325700>"
      ]
     },
     "execution_count": 7,
     "metadata": {},
     "output_type": "execute_result"
    }
   ],
   "source": [
    "model=Sequential()\n",
    "model.add(Conv2D(28,(5,5),input_shape=(32,32,1)))\n",
    "model.add(Activation(\"relu\"))\n",
    "model.add(MaxPooling2D((2,2),strides=2))\n",
    "model.add(Activation(\"relu\"))\n",
    "model.add(Conv2D(10,(5,5)))\n",
    "model.add(LeakyReLU(alpha=0.05))\n",
    "model.add(MaxPooling2D((2,2),strides=2))\n",
    "model.add(Activation(\"relu\"))\n",
    "model.add(Flatten())\n",
    "model.add(LeakyReLU(alpha=0.05))\n",
    "model.add(Dense(150))\n",
    "model.add(LeakyReLU(alpha=0.05))\n",
    "model.add(Dense(120))\n",
    "model.add(LeakyReLU(alpha=0.05))\n",
    "model.add(Dense(60))\n",
    "model.add(LeakyReLU(alpha=0.05))\n",
    "model.add(Dense(49))\n",
    "model.add(Activation(\"softmax\"))\n",
    "model.compile(optimizer=\"adam\",loss=\"SparseCategoricalCrossentropy\",metrics=[\"accuracy\"])\n",
    "model.fit(x_train,y_train,batch_size=80,epochs=25)"
   ]
  },
  {
   "cell_type": "code",
   "execution_count": 8,
   "id": "4a6ab0ab",
   "metadata": {},
   "outputs": [
    {
     "name": "stdout",
     "output_type": "stream",
     "text": [
      "10/10 [==============================] - 1s 28ms/step - loss: 1.6180 - accuracy: 0.6334\n"
     ]
    },
    {
     "data": {
      "text/plain": [
       "[1.6180464029312134, 0.6334404945373535]"
      ]
     },
     "execution_count": 8,
     "metadata": {},
     "output_type": "execute_result"
    }
   ],
   "source": [
    "model.evaluate(x_test,y_test)\n"
   ]
  },
  {
   "cell_type": "code",
   "execution_count": 9,
   "id": "71500a82",
   "metadata": {},
   "outputs": [],
   "source": [
    "model.save(\"tesseract_model.h5\")"
   ]
  },
  {
   "cell_type": "code",
   "execution_count": null,
   "id": "918c4392",
   "metadata": {},
   "outputs": [],
   "source": []
  }
 ],
 "metadata": {
  "kernelspec": {
   "display_name": "Python 3",
   "language": "python",
   "name": "python3"
  },
  "language_info": {
   "codemirror_mode": {
    "name": "ipython",
    "version": 3
   },
   "file_extension": ".py",
   "mimetype": "text/x-python",
   "name": "python",
   "nbconvert_exporter": "python",
   "pygments_lexer": "ipython3",
   "version": "3.8.5"
  }
 },
 "nbformat": 4,
 "nbformat_minor": 5
}
